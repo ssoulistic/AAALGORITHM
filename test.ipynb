{
 "cells": [
  {
   "cell_type": "code",
   "execution_count": 5,
   "metadata": {},
   "outputs": [
    {
     "data": {
      "text/plain": [
       "5"
      ]
     },
     "execution_count": 5,
     "metadata": {},
     "output_type": "execute_result"
    }
   ],
   "source": [
    "def solution(beginning, target):\n",
    "    global answer\n",
    "    width=len(beginning[0])\n",
    "    height=len(beginning)\n",
    "    answer = 101\n",
    "    \n",
    "    def flip_ver(board,row,col):\n",
    "        for r in range(height):\n",
    "            board[r][col]+=1\n",
    "            board[r][col]%=2\n",
    "        return board\n",
    "    \n",
    "    def flip_hor(board,row,col):\n",
    "        for c in range(width):\n",
    "            board[row][c]+=1\n",
    "            board[row][c]%=2\n",
    "        return board\n",
    "\n",
    "    def changediff(board,row,col,count):\n",
    "        global answer\n",
    "        if answer<=count:\n",
    "            return\n",
    "        if row==height:\n",
    "            if board==target:\n",
    "                answer=min(answer,count)\n",
    "            return \n",
    "        if board[row][col]!=target[row][col]:\n",
    "            if col==width-1:\n",
    "                changediff(flip_ver(board,row,col),row+1,0,count+1)\n",
    "                flip_ver(board,row,col)\n",
    "                changediff(flip_hor(board,row,col),row+1,0,count+1)\n",
    "                flip_hor(board,row,col)\n",
    "            else:\n",
    "                changediff(flip_ver(board,row,col),row,col+1,count+1)\n",
    "                flip_ver(board,row,col)\n",
    "                changediff(flip_hor(board,row,col),row,col+1,count+1)\n",
    "                flip_hor(board,row,col)\n",
    "        else:\n",
    "            if col==width-1:\n",
    "                changediff(board,row+1,0,count)\n",
    "            else:\n",
    "                changediff(board,row,col+1,count)\n",
    "        return\n",
    "    \n",
    "    changediff(beginning,0,0,0)\n",
    "    if answer==101:\n",
    "        return -1\n",
    "    return answer\n",
    "solution([[0, 1, 0, 0, 0], [1, 0, 1, 0, 1], [0, 1, 1, 1, 0], [1, 0, 1, 1, 0], [0, 1, 0, 1, 0]],[[0, 0, 0, 1, 1], [0, 0, 0, 0, 1], [0, 0, 1, 0, 1], [0, 0, 0, 1, 0], [0, 0, 0, 0, 1]])"
   ]
  },
  {
   "cell_type": "code",
   "execution_count": 3,
   "metadata": {},
   "outputs": [
    {
     "data": {
      "text/plain": [
       "4"
      ]
     },
     "execution_count": 3,
     "metadata": {},
     "output_type": "execute_result"
    }
   ],
   "source": [
    "1<<2"
   ]
  },
  {
   "cell_type": "code",
   "execution_count": 28,
   "metadata": {},
   "outputs": [
    {
     "data": {
      "text/plain": [
       "5"
      ]
     },
     "execution_count": 28,
     "metadata": {},
     "output_type": "execute_result"
    }
   ],
   "source": [
    "from itertools import combinations\n",
    "def solution(beginning, target):\n",
    "    width=len(beginning[0])\n",
    "    height=len(beginning)\n",
    "    answer = 101\n",
    "    \n",
    "    def flip_ver(board,col):\n",
    "        for r in range(height):\n",
    "            board[r][col]+=1\n",
    "            board[r][col]%=2\n",
    "        return board\n",
    "    \n",
    "    def flip_hor(board,row):\n",
    "        for c in range(width):\n",
    "            board[row][c]+=1\n",
    "            board[row][c]%=2\n",
    "        return board\n",
    "    \n",
    "    def change_diff(board,diff_r,diff_c):\n",
    "        result=float(\"inf\")\n",
    "        for r in diff_r:\n",
    "            board=flip_hor(board,r)\n",
    "        for c in diff_c:\n",
    "            board=flip_ver(board,c)\n",
    "        if board==target:\n",
    "            result=len(diff_r)+len(diff_c)\n",
    "        for r in diff_r:\n",
    "            board=flip_hor(board,r)\n",
    "        for c in diff_c:\n",
    "            board=flip_ver(board,c)\n",
    "        return result\n",
    "    col_set=[]\n",
    "    row_set=[]\n",
    "    for i in range(width):\n",
    "        col_set.extend(combinations([w for w in range(width)],i))\n",
    "    for j in range(height):\n",
    "        row_set.extend(combinations([h for h in range(height)],j))\n",
    "    for col in col_set:\n",
    "        for row in row_set:\n",
    "            answer=min(answer,change_diff(beginning,row,col))\n",
    "            \n",
    "    if answer==101:\n",
    "        return -1\n",
    "    return answer\n",
    "solution([[0, 1, 0, 0, 0], [1, 0, 1, 0, 1], [0, 1, 1, 1, 0], [1, 0, 1, 1, 0], [0, 1, 0, 1, 0]],[[0, 0, 0, 1, 1], [0, 0, 0, 0, 1], [0, 0, 1, 0, 1], [0, 0, 0, 1, 0], [0, 0, 0, 0, 1]])"
   ]
  },
  {
   "cell_type": "code",
   "execution_count": 1,
   "metadata": {},
   "outputs": [
    {
     "data": {
      "text/plain": [
       "6"
      ]
     },
     "execution_count": 1,
     "metadata": {},
     "output_type": "execute_result"
    }
   ],
   "source": [
    "-1% 7"
   ]
  },
  {
   "cell_type": "code",
   "execution_count": 8,
   "metadata": {},
   "outputs": [
    {
     "name": "stdout",
     "output_type": "stream",
     "text": [
      "(1, 5, 3, <function <lambda> at 0x0000027DF0FF4280>) (2, 4, 4, <function <lambda> at 0x0000027DF0F9FBE0>) (3, 3, 5, <function <lambda> at 0x0000027DF0F9FEB0>) (4, 2, 6, <function <lambda> at 0x0000027DF2B085E0>) (5, 1, 7, <function <lambda> at 0x0000027DF2B081F0>)\n"
     ]
    }
   ],
   "source": [
    "l=[1,2,3,4,5]\n",
    "m=[5,4,3,2,1]\n",
    "n=[3,4,5,6,7]\n",
    "k=[lambda x: x+1,lambda x: x+1,lambda x: x+1,lambda x: x+1,lambda x: x+1,]\n",
    "print(*zip(l,m,n,k))"
   ]
  },
  {
   "cell_type": "code",
   "execution_count": 6,
   "metadata": {},
   "outputs": [],
   "source": [
    "def solution(numbers):\n",
    "    global answer\n",
    "    phone_key=[[1,2,3],[4,5,6],[7,8,9],[10,11,12]]\n",
    "    floyd=[[float(\"inf\") for _ in range(12)] for _ in range(12)]\n",
    "    answer = float(\"inf\")\n",
    "    \n",
    "    for r in range(4):\n",
    "        for c in range(3):\n",
    "            for dr,dc in [(-1,0),(1,0),(0,1),(0,-1)]:\n",
    "                nr=r+dr\n",
    "                nc=c+dc\n",
    "                if 0<=nr<4 and 0<=nc<3:\n",
    "                    floyd[phone_key[r][c]-1][phone_key[nr][nc]-1]=2\n",
    "            for dr,dc in [(-1,-1),(-1,1),(1,-1),(1,1)]:\n",
    "                nr=r+dr\n",
    "                nc=c+dc\n",
    "                if 0<=nr<4 and 0<=nc<3:\n",
    "                    floyd[phone_key[r][c]-1][phone_key[nr][nc]-1]=3\n",
    "    for i in range(12):\n",
    "        floyd[i][i]=1\n",
    "    for k in range(12):\n",
    "        for i in range(12):\n",
    "            for j in range(12):\n",
    "                floyd[i][j]=min(floyd[i][j],floyd[i][k]+floyd[k][j])\n",
    "    left_hand=4-1\n",
    "    right_hand=6-1\n",
    "    def dfs(left_hand,right_hand,idx,acc):\n",
    "        global answer\n",
    "        if acc>answer:\n",
    "            return\n",
    "        if idx==len(numbers):\n",
    "            answer=min(acc,answer)\n",
    "            return\n",
    "        if numbers[idx]==\"*\":\n",
    "            target=10\n",
    "        elif numbers[idx] ==\"0\":\n",
    "            target=11\n",
    "        elif numbers[idx]==\"#\":\n",
    "            target=12\n",
    "        else:\n",
    "            target=int(numbers[idx])\n",
    "        target-=1\n",
    "        \n",
    "        dfs(target,right_hand,idx+1,acc+floyd[left_hand][target])\n",
    "        dfs(left_hand,target,idx+1,acc+floyd[right_hand][target])\n",
    "        \n",
    "            \n",
    "        return\n",
    "    dfs(3,5,0,0)\n",
    "        \n",
    "    return answer"
   ]
  }
 ],
 "metadata": {
  "kernelspec": {
   "display_name": "Python 3",
   "language": "python",
   "name": "python3"
  },
  "language_info": {
   "codemirror_mode": {
    "name": "ipython",
    "version": 3
   },
   "file_extension": ".py",
   "mimetype": "text/x-python",
   "name": "python",
   "nbconvert_exporter": "python",
   "pygments_lexer": "ipython3",
   "version": "3.10.5"
  }
 },
 "nbformat": 4,
 "nbformat_minor": 2
}

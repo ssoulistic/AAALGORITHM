{
 "cells": [
  {
   "cell_type": "code",
   "execution_count": 4,
   "metadata": {},
   "outputs": [
    {
     "name": "stdout",
     "output_type": "stream",
     "text": [
      "gbg\n"
     ]
    }
   ],
   "source": [
    "input=open(\"../../sample.txt\",\"r\").readline\n",
    "# import sys\n",
    "# input=sys.stdin.readline\n",
    "N,c1,c2=input().split()\n",
    "S=input().strip()\n",
    "answer=\"\"\n",
    "for i in range(int(N)):\n",
    "    if S[i]!=c1:\n",
    "        answer+=c2\n",
    "    else:\n",
    "        answer+=S[i]\n",
    "print(answer)\n",
    "        "
   ]
  },
  {
   "cell_type": "code",
   "execution_count": 7,
   "metadata": {},
   "outputs": [
    {
     "name": "stdout",
     "output_type": "stream",
     "text": [
      "1226\n"
     ]
    }
   ],
   "source": [
    "input=open(\"../../sample.txt\",\"r\").readline\n",
    "# import sys\n",
    "# input=sys.stdin.readline\n",
    "N,R=map(int,input().split())\n",
    "for _ in range(N):\n",
    "    D,A=map(int,input().split())\n",
    "    if (D==1 and 1600<=R<2800) or  (D==2 and 1200<=R<2400):\n",
    "        R+=A\n",
    "print(R)        \n",
    "        "
   ]
  },
  {
   "cell_type": "code",
   "execution_count": 47,
   "metadata": {},
   "outputs": [
    {
     "name": "stdout",
     "output_type": "stream",
     "text": [
      "3968 ABCDE\n",
      "3840 BCDE\n",
      "3712 ACDE\n",
      "3584 CDE\n",
      "3456 ABDE\n",
      "3328 BDE\n",
      "3200 ADE\n",
      "3072 DE\n",
      "2944 ABCE\n",
      "2816 BCE\n",
      "2688 ACE\n",
      "2560 CE\n",
      "2432 ABE\n",
      "2304 BE\n",
      "2176 AE\n",
      "2048 E\n",
      "1920 ABCD\n",
      "1792 BCD\n",
      "1664 ACD\n",
      "1536 CD\n",
      "1408 ABD\n",
      "1280 BD\n",
      "1152 AD\n",
      "1024 D\n",
      "896 ABC\n",
      "768 BC\n",
      "640 AC\n",
      "512 C\n",
      "384 AB\n",
      "256 B\n",
      "128 A\n"
     ]
    }
   ],
   "source": [
    "input=open(\"../../sample.txt\",\"r\").readline\n",
    "# import sys\n",
    "# input=sys.stdin.readline\n",
    "A=list(map(int,input().split()))\n",
    "score=set()\n",
    "def dfs(string,idx,sc):\n",
    "    score.add((sc,string))\n",
    "    if idx>4:\n",
    "        return\n",
    "    dfs(string+chr(65+idx),idx+1,sc+A[idx])\n",
    "    dfs(string,idx+1,sc)\n",
    "dfs(\"\",0,0)\n",
    "answer=sorted(score,key=lambda x: [-x[0],x[1]])\n",
    "for i in range(31):\n",
    "    print(answer[i][0],answer[i][1])"
   ]
  },
  {
   "cell_type": "code",
   "execution_count": 57,
   "metadata": {},
   "outputs": [
    {
     "name": "stdout",
     "output_type": "stream",
     "text": [
      "No\n"
     ]
    }
   ],
   "source": [
    "input=open(\"../../sample.txt\",\"r\").readline\n",
    "# import sys\n",
    "# input=sys.stdin.readline\n",
    "N,S=map(int,input().split())\n",
    "A=list(map(int,input().split()))\n",
    "total=sum(A)\n",
    "acc=[0]\n",
    "for a in A:\n",
    "    acc.append(acc[-1]+a)\n",
    "answer=\"No\"\n",
    "for i in range(len(acc)):\n",
    "    for j in range(i+1,len(acc)):\n",
    "        if (S-(acc[j]-acc[i])) % total == 0:\n",
    "            answer=\"Yes\"\n",
    "            break\n",
    "        \n",
    "print(answer) "
   ]
  },
  {
   "cell_type": "code",
   "execution_count": 81,
   "metadata": {},
   "outputs": [
    {
     "name": "stdout",
     "output_type": "stream",
     "text": [
      "1343\n"
     ]
    }
   ],
   "source": [
    "input=open(\"../../sample.txt\",\"r\").readline\n",
    "# import sys\n",
    "# input=sys.stdin.readline\n",
    "from heapq import *\n",
    "H,W,X=map(int,input().split())\n",
    "P,Q=map(int,input().split())\n",
    "graph=[]\n",
    "for _ in range(H):\n",
    "    graph.append(list(map(int,input().split())))\n",
    "\n",
    "visited=[[False for _ in range(W)] for _ in range(H)]\n",
    "P-=1\n",
    "Q-=1\n",
    "queue=[]\n",
    "for dr,dc in [[-1,0],[1,0],[0,-1],[0,1]]:\n",
    "    nr=P+dr\n",
    "    nc=Q+dc\n",
    "    if 0<=nr<H and 0<=nc<H:\n",
    "        visited[nr][nc]=True\n",
    "        queue.append([graph[nr][nc],[nr,nc]])\n",
    "heapify(queue)\n",
    "strength=graph[P][Q]\n",
    "visited[P][Q]=True\n",
    "while queue and queue[0][0]<strength/X:\n",
    "    energy,coord=heappop(queue)\n",
    "    strength+=energy\n",
    "    for dr,dc in [[-1,0],[1,0],[0,-1],[0,1]]:\n",
    "        nr=coord[0]+dr\n",
    "        nc=coord[1]+dc\n",
    "        if 0<=nr<H and 0<=nc<H:\n",
    "            if not visited[nr][nc]:    \n",
    "                visited[nr][nc]=True\n",
    "                heappush(queue,[graph[nr][nc],[nr,nc]])\n",
    "print(strength)"
   ]
  }
 ],
 "metadata": {
  "kernelspec": {
   "display_name": "Python 3",
   "language": "python",
   "name": "python3"
  },
  "language_info": {
   "codemirror_mode": {
    "name": "ipython",
    "version": 3
   },
   "file_extension": ".py",
   "mimetype": "text/x-python",
   "name": "python",
   "nbconvert_exporter": "python",
   "pygments_lexer": "ipython3",
   "version": "3.10.5"
  }
 },
 "nbformat": 4,
 "nbformat_minor": 2
}

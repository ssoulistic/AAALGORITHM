{
 "cells": [
  {
   "cell_type": "code",
   "execution_count": 8,
   "metadata": {},
   "outputs": [
    {
     "name": "stdout",
     "output_type": "stream",
     "text": [
      "9834496\n"
     ]
    }
   ],
   "source": [
    "input=open(\"D:/python/AAALGORITHM/대회/test.txt\",'r').readline\n",
    "# import sys\n",
    "# input=sys.stdin.readline\n",
    "A,B=map(int,input().split())\n",
    "print((A+B)**2)"
   ]
  },
  {
   "cell_type": "code",
   "execution_count": 13,
   "metadata": {},
   "outputs": [
    {
     "name": "stdout",
     "output_type": "stream",
     "text": [
      "1929\n"
     ]
    }
   ],
   "source": [
    "input=open(\"D:/python/AAALGORITHM/대회/test.txt\",'r').readline\n",
    "# import sys\n",
    "# input=sys.stdin.readline\n",
    "from collections import defaultdict\n",
    "acc=defaultdict(int)\n",
    "total=0\n",
    "X=int(input())\n",
    "for i in range(9):\n",
    "    for j in range(9):\n",
    "        acc[(i+1)*(j+1)]+=1\n",
    "        total+=(i+1)*(j+1)\n",
    "print(total-X*acc[X])\n",
    "\n",
    "        "
   ]
  },
  {
   "cell_type": "code",
   "execution_count": null,
   "metadata": {},
   "outputs": [],
   "source": [
    "input=open(\"D:/python/AAALGORITHM/대회/test.txt\",'r').readline\n",
    "# import sys\n",
    "# input=sys.stdin.readline\n",
    "L,R=map(int,input().split())\n",
    "def snake_num_count(num):\n",
    "    first=int(str(num)[0])\n",
    "    length=len(str(num))\n",
    "    total=sum(j**(length-1) for j in range(1,first+1))\n",
    "    for i in range(length):\n",
    "        x=int(str(num)[i])\n",
    "            \n",
    "    \n",
    "    return"
   ]
  },
  {
   "cell_type": "code",
   "execution_count": null,
   "metadata": {},
   "outputs": [
    {
     "name": "stdout",
     "output_type": "stream",
     "text": [
      "148\n"
     ]
    }
   ],
   "source": [
    "input=open(\"D:/python/AAALGORITHM/대회/test.txt\",'r').readline\n",
    "# import sys\n",
    "# input=sys.stdin.readline\n",
    "from collections import deque\n",
    "H,W=map(int,input().split())\n",
    "graph=[]\n",
    "visit=[[[1e9,-1] for _ in range(W)] for _ in range(H)] # 이동한거리, horizontal,vertical\n",
    "\n",
    "for i in range(H):\n",
    "    line=[]\n",
    "    j=0\n",
    "    for l in input().strip():\n",
    "        if l==\"S\":\n",
    "            start=(i,j)\n",
    "        elif l==\"G\":\n",
    "            goal=(i,j)\n",
    "        j+=1\n",
    "        line.append(l)\n",
    "    graph.append(line)\n",
    "\n",
    "queue=deque()\n",
    "coord=start\n",
    "direction=0\n",
    "dist=1\n",
    "queue.append([start,direction,dist])\n",
    "visit[coord[0]][coord[1]]=[0,0]\n",
    "direction=1\n",
    "queue.append([start,direction,dist])\n",
    "while queue:\n",
    "    nxt=queue.popleft()\n",
    "    coord,direction,dist=nxt\n",
    "    r,c=coord\n",
    "    if direction==0:\n",
    "        for dr,dc in [[-1,0],[1,0]]:\n",
    "            nr=r+dr\n",
    "            nc=c+dc\n",
    "            if 0<=nr<H and 0<=nc<W and visit[nr][nc][0]>dist and graph[nr][nc]!=\"#\":\n",
    "                visit[nr][nc][0]=dist\n",
    "                visit[nr][nc][1]=1\n",
    "                queue.append([[nr,nc],1,dist+1])\n",
    "    elif direction==1:\n",
    "        for dr,dc in [[0,-1],[0,1]]:\n",
    "            nr=r+dr\n",
    "            nc=c+dc\n",
    "            if 0<=nr<H and 0<=nc<W and visit[nr][nc][0]>dist and graph[nr][nc]!=\"#\":\n",
    "                visit[nr][nc][0]=dist\n",
    "                visit[nr][nc][1]=0\n",
    "                queue.append([[nr,nc],0,dist+1])\n",
    "ans=(visit[goal[0]][goal[1]][0])\n",
    "if ans==1e9:\n",
    "    print(-1)\n",
    "else:\n",
    "    print(ans)\n",
    " \n",
    "\n",
    "    "
   ]
  }
 ],
 "metadata": {
  "kernelspec": {
   "display_name": "Python 3",
   "language": "python",
   "name": "python3"
  },
  "language_info": {
   "codemirror_mode": {
    "name": "ipython",
    "version": 3
   },
   "file_extension": ".py",
   "mimetype": "text/x-python",
   "name": "python",
   "nbconvert_exporter": "python",
   "pygments_lexer": "ipython3",
   "version": "3.10.5"
  }
 },
 "nbformat": 4,
 "nbformat_minor": 2
}

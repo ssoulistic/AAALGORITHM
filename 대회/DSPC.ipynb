{
 "cells": [
  {
   "cell_type": "code",
   "execution_count": 1,
   "metadata": {},
   "outputs": [
    {
     "name": "stdout",
     "output_type": "stream",
     "text": [
      "<built-in method readline of _io.TextIOWrapper object at 0x0000021669AFC860>\n"
     ]
    }
   ],
   "source": [
    "input=open(\"./test.txt\",\"r\").readline\n",
    "print(input)"
   ]
  },
  {
   "cell_type": "code",
   "execution_count": 7,
   "metadata": {},
   "outputs": [
    {
     "name": "stdout",
     "output_type": "stream",
     "text": [
      "26\n"
     ]
    }
   ],
   "source": [
    "# A \n",
    "input=open(\"./test.txt\",\"r\").readline\n",
    "# import sys\n",
    "# input=sys.stdin.readline\n",
    "a,b,c=map(int,input().split())\n",
    "if a==0:\n",
    "    print(c**2-b)\n",
    "elif b==0:\n",
    "    print(c**2-a)\n",
    "elif c==0:\n",
    "    print(int((a+b)**0.5))"
   ]
  },
  {
   "cell_type": "code",
   "execution_count": 12,
   "metadata": {},
   "outputs": [
    {
     "name": "stdout",
     "output_type": "stream",
     "text": [
      "EPPD"
     ]
    }
   ],
   "source": [
    "# B\n",
    "input=open(\"./test.txt\",\"r\").readline\n",
    "# import sys\n",
    "# input=sys.stdin.readline\n",
    "\n",
    "N=int(input())\n",
    "history=input().strip()\n",
    "stack=[]\n",
    "for grade in history:\n",
    "    if grade.isalpha():\n",
    "        stack.append(grade)\n",
    "    else:\n",
    "        g1=stack.pop()\n",
    "        stack.append(g1+grade)\n",
    "for i in range(N):\n",
    "    if stack[i] in [\"C+\",\"C0\",\"C-\",\"C\"]:\n",
    "        print(\"B\",end=\"\")\n",
    "    elif stack[i] in [\"B0\",\"B\",\"B-\"]:\n",
    "        if i==0 or i>=1 and stack[i-1] in [\"C+\",\"C0\",\"C\",\"C-\"]:\n",
    "            print(\"D\",end=\"\")\n",
    "        elif i>=1 and stack[i-1] in [\"A+\",\"A0\",\"A\",\"A-\",\"B+\",\"B0\",\"B\",\"B-\"]:\n",
    "            print(\"B\",end=\"\")\n",
    "    elif stack[i] in [\"A-\",\"B+\"]:\n",
    "        if i==0 or i>=1 and stack[i-1] in [\"C+\",\"C0\",\"C\",\"C-\",\"B0\",\"B\",\"B-\"]:\n",
    "            print(\"P\",end=\"\")\n",
    "        elif i>=1 and stack[i-1] in [\"A+\",\"A0\",\"A\",\"A-\",\"B+\"]:\n",
    "            print(\"D\",end=\"\")\n",
    "    elif stack[i] in [\"A0\",\"A\"]:\n",
    "        if i==0 or i>=1 and stack[i-1] in [\"C+\",\"C0\",\"C\",\"C-\",\"B+\",\"B0\",\"B\",\"B-\",\"A-\"]:\n",
    "            print(\"E\",end=\"\")\n",
    "        elif i>=1 and stack[i-1] in [\"A+\",\"A0\",\"A\"]:\n",
    "            print(\"P\",end=\"\")\n",
    "    elif stack[i]==\"A+\":\n",
    "        print(\"E\",end=\"\")"
   ]
  },
  {
   "cell_type": "code",
   "execution_count": 27,
   "metadata": {},
   "outputs": [
    {
     "name": "stdout",
     "output_type": "stream",
     "text": [
      "10 -10 -40 "
     ]
    }
   ],
   "source": [
    "# C\n",
    "input=open(\"./test.txt\",\"r\").readline\n",
    "# import sys\n",
    "# input=sys.stdin.readline\n",
    "\n",
    "N=int(input())\n",
    "profit=list(map(int,input().split()))\n",
    "price=list(map(int,input().split()))\n",
    "\n",
    "max1,max2=sorted(profit)[-2:]\n",
    "opp=[]\n",
    "for p in range(N):\n",
    "    if profit[p]==max2:\n",
    "        opp.append(max1-price[p])\n",
    "    else:\n",
    "        opp.append(max2-price[p])\n",
    "        \n",
    "for i in range(N):\n",
    "    print(profit[i]-opp[i]-price[i],end=\" \")"
   ]
  },
  {
   "cell_type": "code",
   "execution_count": null,
   "metadata": {},
   "outputs": [],
   "source": [
    "# D\n",
    "input=open(\"./test.txt\",\"r\").readline\n",
    "# import sys\n",
    "# input=sys.stdin.readline\n",
    "\n",
    "t=int(input())\n",
    "for _ in range(t):\n",
    "    a,b=map(int,input().split())\n",
    "acc=[0 for _ in range(1000001)]\n",
    "\n",
    "def check(num):\n",
    "    Flag=0\n",
    "    bef=-1\n",
    "    while num:\n",
    "        num,l=divmod(num,10)\n",
    "        if Flag==0 and bef<l:\n",
    "            Flag=1\n",
    "        elif Flag==1:\n",
    "            if bef>l:\n",
    "                Flag=2\n",
    "            else:\n",
    "                return False\n",
    "        bef=l\n",
    "    return True\n",
    "        "
   ]
  }
 ],
 "metadata": {
  "kernelspec": {
   "display_name": "Python 3",
   "language": "python",
   "name": "python3"
  },
  "language_info": {
   "codemirror_mode": {
    "name": "ipython",
    "version": 3
   },
   "file_extension": ".py",
   "mimetype": "text/x-python",
   "name": "python",
   "nbconvert_exporter": "python",
   "pygments_lexer": "ipython3",
   "version": "3.10.5"
  }
 },
 "nbformat": 4,
 "nbformat_minor": 2
}

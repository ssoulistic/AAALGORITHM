{
 "cells": [
  {
   "cell_type": "code",
   "execution_count": 181,
   "metadata": {},
   "outputs": [
    {
     "name": "stdout",
     "output_type": "stream",
     "text": [
      "-1\n"
     ]
    }
   ],
   "source": [
    " #A\n",
    "input=open(\"D:/python/AAALGORITHM/대회/test.txt\",'r').readline\n",
    "# import sys\n",
    "# input=sys.stdin.readline\n",
    "N,M=map(int,input().split())\n",
    "S=int(input())\n",
    "submit={}\n",
    "answer=[]\n",
    "form_acc=0\n",
    "for _ in range(M):\n",
    "    i,t=map(int,input().split())\n",
    "    if submit.get(i):\n",
    "        if submit[i][1] and form_acc-submit[i][2]>=S:\n",
    "            submit[i][t]=False\n",
    "        else:\n",
    "            submit[i][t]=True\n",
    "    else:\n",
    "        submit[i]=[False,False,form_acc]\n",
    "        submit[i][t]=True\n",
    "    if t==0:\n",
    "        form_acc+=1\n",
    "for k,v in submit.items():\n",
    "    if v[0]==False  and form_acc-v[2]>=S:\n",
    "        answer.append(k)\n",
    "  \n",
    "if answer:\n",
    "    print(*answer,sep=\"\\n\")\n",
    "else:\n",
    "    print(-1)"
   ]
  },
  {
   "cell_type": "code",
   "execution_count": 109,
   "metadata": {},
   "outputs": [
    {
     "name": "stdout",
     "output_type": "stream",
     "text": [
      "2\n",
      "SN 3000ba\n"
     ]
    }
   ],
   "source": [
    "#B\n",
    "input=open(\"D:/python/AAALGORITHM/대회/test.txt\",'r').readline\n",
    "# import sys\n",
    "# input=sys.stdin.readline\n",
    "N,M=map(int,input().split())\n",
    "suffix=\"\"\n",
    "print((M-1)//26)\n",
    "if M<=26:\n",
    "    suffix+=chr(65+M-1)\n",
    "else:\n",
    "    suffix+=chr(97+(M-1)//26-1)\n",
    "    suffix+=chr(97+(M-1)%26)\n",
    "    \n",
    "print(f\"SN {N}{suffix}\")"
   ]
  },
  {
   "cell_type": "code",
   "execution_count": 146,
   "metadata": {},
   "outputs": [
    {
     "name": "stdout",
     "output_type": "stream",
     "text": [
      "4 1 6 5 2 3 "
     ]
    }
   ],
   "source": [
    "#C\n",
    "input=open(\"D:/python/AAALGORITHM/대회/test.txt\",'r').readline\n",
    "# import sys\n",
    "# input=sys.stdin.readline\n",
    "\n",
    "N=int(input())\n",
    "indegree=[0 for _ in range(N)]\n",
    "visited=[False for _ in range(N)]\n",
    "graph=[]\n",
    "for i in range(N):\n",
    "    row=list(map(int,input().split()))\n",
    "    graph.append(row)\n",
    "    for j in range(i+1,N):\n",
    "        if row[j]==1:\n",
    "            indegree[j]+=1\n",
    "        elif row[j]==-1:\n",
    "            indegree[i]+=1\n",
    "        \n",
    "if len(set(indegree))!=N:\n",
    "    print(-1)\n",
    "else:\n",
    "    for ans in map(lambda x: x+1,indegree):\n",
    "        print(ans,end=\" \")"
   ]
  },
  {
   "cell_type": "code",
   "execution_count": null,
   "metadata": {},
   "outputs": [],
   "source": [
    "#D\n",
    "input=open(\"D:/python/AAALGORITHM/대회/test.txt\",'r').readline\n",
    "# import sys\n",
    "# input=sys.stdin.readline"
   ]
  },
  {
   "cell_type": "code",
   "execution_count": null,
   "metadata": {},
   "outputs": [],
   "source": [
    "#E\n",
    "input=open(\"D:/python/AAALGORITHM/대회/test.txt\",'r').readline\n",
    "# import sys\n",
    "# input=sys.stdin.readline"
   ]
  },
  {
   "cell_type": "code",
   "execution_count": null,
   "metadata": {},
   "outputs": [],
   "source": [
    "#F\n",
    "input=open(\"D:/python/AAALGORITHM/대회/test.txt\",'r').readline\n",
    "# import sys\n",
    "# input=sys.stdin.readline"
   ]
  },
  {
   "cell_type": "code",
   "execution_count": null,
   "metadata": {},
   "outputs": [],
   "source": [
    "#G\n",
    "input=open(\"D:/python/AAALGORITHM/대회/test.txt\",'r').readline\n",
    "# import sys\n",
    "# input=sys.stdin.readline"
   ]
  },
  {
   "cell_type": "code",
   "execution_count": 141,
   "metadata": {},
   "outputs": [
    {
     "name": "stdout",
     "output_type": "stream",
     "text": [
      "11.111111\n"
     ]
    }
   ],
   "source": [
    "#H\n",
    "input=open(\"D:/python/AAALGORITHM/대회/test.txt\",'r').readline\n",
    "# import sys\n",
    "# input=sys.stdin.readline\n",
    "N=int(input())\n",
    "X=int(input())\n",
    "print(round((1/((100-X)/100)-1)*100,6))"
   ]
  },
  {
   "cell_type": "code",
   "execution_count": 151,
   "metadata": {},
   "outputs": [
    {
     "name": "stdout",
     "output_type": "stream",
     "text": [
      "2\n"
     ]
    }
   ],
   "source": [
    "\n",
    "#I\n",
    "input=open(\"D:/python/AAALGORITHM/대회/test.txt\",'r').readline\n",
    "# import sys\n",
    "# input=sys.stdin.readline\n",
    "N,K=map(int,input().split())\n",
    "a=list(map(int,input().split()))\n",
    "lm,rm=a[0],a[0]\n",
    "count=0\n",
    "for i in a:\n",
    "    if i<lm:\n",
    "        if i<rm-K:\n",
    "            lm,rm=i,i\n",
    "            count+=1\n",
    "        else:\n",
    "            lm=i\n",
    "    elif i>rm:\n",
    "        if i>lm+K:\n",
    "            lm,rm=i,i\n",
    "            count+=1\n",
    "        else:\n",
    "            rm=i\n",
    "print(count)"
   ]
  },
  {
   "cell_type": "code",
   "execution_count": null,
   "metadata": {},
   "outputs": [],
   "source": [
    "#J\n",
    "input=open(\"D:/python/AAALGORITHM/대회/test.txt\",'r').readline\n",
    "# import sys\n",
    "# input=sys.stdin.readline"
   ]
  }
 ],
 "metadata": {
  "kernelspec": {
   "display_name": "Python 3",
   "language": "python",
   "name": "python3"
  },
  "language_info": {
   "codemirror_mode": {
    "name": "ipython",
    "version": 3
   },
   "file_extension": ".py",
   "mimetype": "text/x-python",
   "name": "python",
   "nbconvert_exporter": "python",
   "pygments_lexer": "ipython3",
   "version": "3.10.5"
  }
 },
 "nbformat": 4,
 "nbformat_minor": 2
}

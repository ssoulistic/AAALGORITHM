{
 "cells": [
  {
   "cell_type": "code",
   "execution_count": 4,
   "metadata": {},
   "outputs": [
    {
     "name": "stdout",
     "output_type": "stream",
     "text": [
      "No\n"
     ]
    }
   ],
   "source": [
    "input=open(\"../../sample.txt\",\"r\").readline\n",
    "# import sys\n",
    "# input=sys.stdin.readline\n",
    "A,B,C=map(int,input().split())\n",
    "if A+C ==B or A+B==C or B+C==A or A==B==C:\n",
    "    print(\"Yes\")\n",
    "else:\n",
    "    print(\"No\")\n",
    "    "
   ]
  },
  {
   "cell_type": "code",
   "execution_count": 21,
   "metadata": {},
   "outputs": [
    {
     "name": "stdout",
     "output_type": "stream",
     "text": [
      "4 14 1\n"
     ]
    }
   ],
   "source": [
    "input=open(\"../../sample.txt\",\"r\").readline\n",
    "# import sys\n",
    "# input=sys.stdin.readline\n",
    "H,W,X,Y=map(int,input().split())\n",
    "graph=[]\n",
    "for _ in range(H):\n",
    "    graph.append(list(input().strip()))\n",
    "T=list(input().strip())\n",
    "X-=1\n",
    "Y-=1\n",
    "visited=[[False for _ in range(W)] for _ in range(H)]\n",
    "move={\"U\":[-1,0],\"D\":[1,0],\"L\":[0,-1],\"R\":[0,1]}\n",
    "visited[X][Y]=True\n",
    "count=0\n",
    "for t in T:\n",
    "    dr,dc=move[t]\n",
    "    if 0<=X+dr<H and 0<=Y+dc<W and graph[X+dr][Y+dc]!=\"#\":\n",
    "        X+=dr\n",
    "        Y+=dc\n",
    "        if not visited[X][Y]:\n",
    "            if graph[X][Y]==\"@\":\n",
    "                count+=1\n",
    "        visited[X][Y]=True\n",
    "print(X+1,Y+1,count)"
   ]
  },
  {
   "cell_type": "code",
   "execution_count": 23,
   "metadata": {},
   "outputs": [
    {
     "name": "stdout",
     "output_type": "stream",
     "text": [
      "{3: [0, 9, 15, 17, 24, 25, 27], 1: [1, 3], 4: [2, 19, 23], 5: [4, 8, 10, 31], 9: [5, 12, 14, 30], 2: [6, 16, 21, 28], 6: [7, 20, 22], 8: [11, 18, 26], 7: [13, 29]}\n"
     ]
    }
   ],
   "source": [
    "input=open(\"../../sample.txt\",\"r\").readline\n",
    "# import sys\n",
    "# input=sys.stdin.readline\n",
    "N=int(input())\n",
    "buildings=list(map(int,input().split()))\n",
    "nums={}\n",
    "for idx,b in enumerate(buildings):\n",
    "    if nums.get(b):\n",
    "        nums[b].append(idx)\n",
    "    else:\n",
    "        nums[b]=[idx]\n",
    "answer=0\n",
    "for k,v in nums.items():\n",
    "    if \n",
    "    \n",
    "            \n",
    "\n"
   ]
  },
  {
   "cell_type": "code",
   "execution_count": 27,
   "metadata": {},
   "outputs": [
    {
     "name": "stdout",
     "output_type": "stream",
     "text": [
      "3000000000 0\n"
     ]
    }
   ],
   "source": [
    "input=open(\"../../sample.txt\",\"r\").readline\n",
    "# import sys\n",
    "# input=sys.stdin.readline\n",
    "N,M,Sx,Sy=map(int,input().split())\n",
    "houses=[]\n",
    "for _ in range(N):\n",
    "    houses.append(list(map(int,input().split())))\n",
    "mv={\"U\":[0,1],\"D\":[0,-1],\"L\":[-1,0],\"R\":[1,0]}\n",
    "for _ in range(M):\n",
    "    D,C=input().split()\n",
    "    C=int(C)\n",
    "    dx,dy=mv[D]\n",
    "    Sx+=dx*C\n",
    "    Sy+=dy*C\n",
    "print(Sx,Sy)\n",
    "    "
   ]
  }
 ],
 "metadata": {
  "kernelspec": {
   "display_name": "Python 3",
   "language": "python",
   "name": "python3"
  },
  "language_info": {
   "codemirror_mode": {
    "name": "ipython",
    "version": 3
   },
   "file_extension": ".py",
   "mimetype": "text/x-python",
   "name": "python",
   "nbconvert_exporter": "python",
   "pygments_lexer": "ipython3",
   "version": "3.10.5"
  }
 },
 "nbformat": 4,
 "nbformat_minor": 2
}

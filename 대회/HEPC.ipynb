{
 "cells": [
  {
   "cell_type": "code",
   "execution_count": 4,
   "metadata": {},
   "outputs": [
    {
     "name": "stdout",
     "output_type": "stream",
     "text": [
      "3\n",
      "\n"
     ]
    }
   ],
   "source": [
    "input=open(\"sample.txt\",'r').readline\n",
    "# import sys\n",
    "# input=sys.stdin.readline"
   ]
  },
  {
   "cell_type": "code",
   "execution_count": 9,
   "metadata": {},
   "outputs": [
    {
     "name": "stdout",
     "output_type": "stream",
     "text": [
      "=\n"
     ]
    }
   ],
   "source": [
    "# A 손가락 게임\n",
    "input=open(\"sample.txt\",'r').readline\n",
    "# import sys\n",
    "# input=sys.stdin.readline\n",
    "jun,ik=map(int,input().split())\n",
    "result=\"\"\n",
    "if jun==0:\n",
    "    if ik ==0:\n",
    "        result=\"draw\"\n",
    "    elif ik==5:\n",
    "        result=\"lose\"\n",
    "    else:\n",
    "        result=\"win\"\n",
    "elif jun==2:\n",
    "    if ik==0:\n",
    "        result=\"lose\"\n",
    "    elif ik==2:\n",
    "        result=\"draw\"\n",
    "    else:\n",
    "        result=\"win\"\n",
    "elif jun ==5:\n",
    "    if ik==2:\n",
    "        result=\"lose\"\n",
    "    elif ik==5:\n",
    "        result=\"draw\"\n",
    "    else:\n",
    "        result=\"win\"\n",
    "else:\n",
    "    if ik not in [0,2,5]:\n",
    "        result=\"draw\"\n",
    "    else:\n",
    "        result=\"lose\"\n",
    "\n",
    "if result==\"win\":\n",
    "    print(\">\")\n",
    "elif result==\"draw\":\n",
    "    print(\"=\")\n",
    "elif result==\"lose\":\n",
    "    print(\"<\")\n"
   ]
  },
  {
   "cell_type": "code",
   "execution_count": 12,
   "metadata": {},
   "outputs": [
    {
     "name": "stdout",
     "output_type": "stream",
     "text": [
      "-1\n"
     ]
    }
   ],
   "source": [
    "# B 홀짝홀짝\n",
    "input=open(\"sample.txt\",'r').readline\n",
    "# import sys\n",
    "# input=sys.stdin.readline\n",
    "N=int(input())\n",
    "K=input().strip()\n",
    "odd,even=0,0\n",
    "for i in range(N):\n",
    "    if int(K[i]) % 2:\n",
    "        odd+=1\n",
    "    else:\n",
    "        even+=1\n",
    "if odd>even:\n",
    "    print(1)\n",
    "elif odd<even:\n",
    "    print(0)\n",
    "else:\n",
    "    print(-1)\n"
   ]
  },
  {
   "cell_type": "code",
   "execution_count": 32,
   "metadata": {},
   "outputs": [
    {
     "name": "stdout",
     "output_type": "stream",
     "text": [
      "2\n"
     ]
    }
   ],
   "source": [
    "# C 수박 게임\n",
    "input=open(\"sample.txt\",'r').readline\n",
    "# import sys\n",
    "# input=sys.stdin.readline\n",
    "N,K=map(int,input().split())\n",
    "x=bin(K)[2:-N+1]\n",
    "if x:\n",
    "    print(int(x,2))\n",
    "else:\n",
    "    print(0)"
   ]
  },
  {
   "cell_type": "code",
   "execution_count": 56,
   "metadata": {},
   "outputs": [
    {
     "name": "stdout",
     "output_type": "stream",
     "text": [
      "2\n"
     ]
    }
   ],
   "source": [
    "# D 선배님 밥사주세요\n",
    "input=open(\"sample.txt\",'r').readline\n",
    "# import sys\n",
    "# input=sys.stdin.readline\n",
    "# 1. 돈이 충분해서 유효한 날인지\n",
    "# 2. 돈이 있다면 무를 수없다 => 앞에꺼부터 순서대로 진행하라\n",
    "# 3. 한 선배는 두번이상 밥을 사주지 않음 => 그냥 체크하면 된다.\n",
    "\n",
    "N=int(input())\n",
    "senpai={}\n",
    "promise=[]\n",
    "for _ in range(N):\n",
    "    S,W,D,P=input().split()\n",
    "    promise.append([7*int(W)+int(D),S,int(P)])\n",
    "for _ in range(N):\n",
    "    S,M=input().split()\n",
    "    senpai[S]=int(M)\n",
    "promise.sort()\n",
    "stack=[]\n",
    "\n",
    "answer=0\n",
    "for day,S,P in promise:\n",
    "    if senpai[S]-P>=0:\n",
    "        if stack:\n",
    "            if stack[-1]+1==day:\n",
    "                stack.append(day)\n",
    "            elif stack[-1]>day:\n",
    "                stack=[]\n",
    "        else:\n",
    "            stack.append(day)\n",
    "    answer=max(len(stack),answer)\n",
    "print(answer)\n",
    "    "
   ]
  },
  {
   "cell_type": "code",
   "execution_count": 62,
   "metadata": {},
   "outputs": [
    {
     "name": "stdout",
     "output_type": "stream",
     "text": [
      "5\n"
     ]
    }
   ],
   "source": [
    "# E 버블버블\n",
    "input=open(\"sample.txt\",'r').readline\n",
    "# import sys\n",
    "# input=sys.stdin.readline\n",
    "\n",
    "N=int(input())\n",
    "A=list(map(int,input().split()))\n",
    "B=A[:]\n",
    "count=0\n",
    "for i in range(N):\n",
    "    for j in range(i+1,N):\n",
    "        if A[i]>A[j]:\n",
    "            A[i],A[j]=A[j],A[i]\n",
    "            count+=1\n",
    "\n",
    "count2=1\n",
    "for i in range(N):\n",
    "    for j in range(i+1,N):\n",
    "        if B[i]<B[j]:\n",
    "            B[i],B[j]=B[j],B[i]\n",
    "            count2+=1\n",
    "print(min(count,count2))\n",
    "\n",
    "# 버블 소트\n",
    "# 내림 차순 또는 오름 차순 중 최소  "
   ]
  }
 ],
 "metadata": {
  "kernelspec": {
   "display_name": "Python 3",
   "language": "python",
   "name": "python3"
  },
  "language_info": {
   "codemirror_mode": {
    "name": "ipython",
    "version": 3
   },
   "file_extension": ".py",
   "mimetype": "text/x-python",
   "name": "python",
   "nbconvert_exporter": "python",
   "pygments_lexer": "ipython3",
   "version": "3.12.0"
  }
 },
 "nbformat": 4,
 "nbformat_minor": 2
}

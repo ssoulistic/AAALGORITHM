{
 "cells": [
  {
   "cell_type": "code",
   "execution_count": 13,
   "metadata": {},
   "outputs": [
    {
     "name": "stdout",
     "output_type": "stream",
     "text": [
      "1\n"
     ]
    }
   ],
   "source": [
    "#1z\n",
    "input=open(\"../test.txt\",\"r\").readline\n",
    "# import sys\n",
    "# input=sys.stdin.readline\n",
    "dong=0\n",
    "A,B=map(int,input().split())\n",
    "dong=(dong-1+A+B) % 4 \n",
    "C,D=map(int,input().split())\n",
    "dong=(dong-1+C+D) % 4 \n",
    "print(dong+1)\n"
   ]
  },
  {
   "cell_type": "code",
   "execution_count": 38,
   "metadata": {},
   "outputs": [
    {
     "name": "stdout",
     "output_type": "stream",
     "text": [
      "1 1 1 1 1 1\n",
      "9 9 1 1 1 1\n",
      "9 9 9 9 9 9\n"
     ]
    }
   ],
   "source": [
    "# 1m\n",
    "input=open(\"../test.txt\",\"r\").readline\n",
    "# import sys\n",
    "# input=sys.stdin.readline\n",
    "H,W=map(int,input().split())\n",
    "C,D=map(int,input().split())\n",
    "least=(H)*(H-1)//2\n",
    "maximum=(W-H)*H+(H*(H+1)//2)\n",
    "answer=[]\n",
    "if D>maximum or (D<least or W<H):\n",
    "    print(-1)\n",
    "else:\n",
    "    for i in range(H):\n",
    "        answer.append([9]*(i))\n",
    "        D-=i\n",
    "    \n",
    "    limit=W\n",
    "    j=H-1\n",
    "    while D>0 and j>=0:\n",
    "        det=min(D,limit-len(answer[j]))\n",
    "        answer[j]+=[9]*(det)\n",
    "        D-=det\n",
    "        j-=1\n",
    "        limit-=1\n",
    "    \n",
    "    j=0\n",
    "    while j<H:\n",
    "        det=W-len(answer[j])\n",
    "        answer[j]+=[1]*det\n",
    "        j+=1\n",
    "    for ans in answer:\n",
    "        print(*ans)        "
   ]
  },
  {
   "cell_type": "code",
   "execution_count": 87,
   "metadata": {},
   "outputs": [
    {
     "name": "stdout",
     "output_type": "stream",
     "text": [
      "0\n"
     ]
    }
   ],
   "source": [
    "#1p\n",
    "input=open(\"../test.txt\",\"r\").readline\n",
    "# import sys\n",
    "# input=sys.stdin.readline\n",
    "N=int(input())\n",
    "i=0\n",
    "dic={}\n",
    "answer=0\n",
    "for c in input().split():\n",
    "    i+=1\n",
    "    if dic.get(c):\n",
    "        dic[c]+=1\n",
    "        if dic[c]>4:\n",
    "            answer=i\n",
    "            break\n",
    "    else:\n",
    "        dic[c]=1\n",
    "print(answer)\n"
   ]
  },
  {
   "cell_type": "code",
   "execution_count": 97,
   "metadata": {},
   "outputs": [
    {
     "name": "stdout",
     "output_type": "stream",
     "text": [
      "5\n"
     ]
    }
   ],
   "source": [
    "#9p\n",
    "from collections import deque\n",
    "input=open(\"../test.txt\",\"r\").readline\n",
    "# import sys\n",
    "# input=sys.stdin.readline\n",
    "N=int(input())\n",
    "answer=1e7\n",
    "dic={}\n",
    "for idx,z in enumerate(input().split()):\n",
    "    if dic.get(z):\n",
    "        dic[z].append(idx)\n",
    "        if len(dic[z])>4:\n",
    "            answer=min(answer,dic[z][-1]-dic[z][0]+1)\n",
    "            dic[z].popleft()\n",
    "    else:\n",
    "        dic[z]=deque([idx])\n",
    "if answer==1e7:\n",
    "    print(-1)\n",
    "else:\n",
    "    print(answer)"
   ]
  },
  {
   "cell_type": "code",
   "execution_count": 163,
   "metadata": {},
   "outputs": [
    {
     "name": "stdout",
     "output_type": "stream",
     "text": [
      "2 1\n"
     ]
    }
   ],
   "source": [
    "#4z\n",
    "input=open(\"../test.txt\",\"r\").readline\n",
    "# import sys\n",
    "# input=sys.stdin.readline\n",
    "P3,P4,P0=map(int,input().split())\n",
    "T3,T4=0,0\n",
    "T3+=P3//3\n",
    "T4+=P4//4\n",
    "P3%=3\n",
    "P4%=4\n",
    "if P3>0 and P3+P0>=3:\n",
    "    T3+=1\n",
    "    P0-=(3-P3)\n",
    "    P3=0\n",
    "    \n",
    "if P4>0 and P4+P0>=4:\n",
    "    T4+=1\n",
    "    P0-=(4-P4)\n",
    "    P4=0\n",
    "    \n",
    "if P0>0:\n",
    "    for i in range(P0//3+1):\n",
    "        if (P0-3*i) % 4==0:\n",
    "            T3+=i\n",
    "            T4+=(P0-3*i)//4\n",
    "            P0=0\n",
    "            break\n",
    "if P3==0 and P4==0 and P0==0:\n",
    "    print(T3,T4)\n",
    "else:\n",
    "    print(-1)"
   ]
  },
  {
   "cell_type": "code",
   "execution_count": null,
   "metadata": {},
   "outputs": [
    {
     "name": "stdout",
     "output_type": "stream",
     "text": [
      "-1\n"
     ]
    }
   ],
   "source": [
    "input=open(\"../test.txt\",\"r\").readline\n",
    "# import sys\n",
    "# input=sys.stdin.readline\n",
    "def main():\n",
    "    N,K,M=map(int,input().split())\n",
    "    result={}\n",
    "    for _ in range(N):\n",
    "        a1,a2,a3,a4,s1,s2,s3,s4=map(int,input().split())\n",
    "        if result.get(a1):\n",
    "            result[a1][0][0]+=s1\n",
    "            result[a1][0][1]+=1\n",
    "        else:\n",
    "            result[a1]=[[s1,1],[0,0],[0,0],[0,0]]\n",
    "            \n",
    "        if result.get(a2):\n",
    "            result[a2][1][0]+=s2\n",
    "            result[a2][1][1]+=1\n",
    "        else:\n",
    "            result[a2]=[[0,0],[s2,1],[0,0],[0,0]]\n",
    "            \n",
    "        if result.get(a3):\n",
    "            result[a3][2][0]+=s3\n",
    "            result[a3][2][1]+=1\n",
    "        else:\n",
    "            result[a3]=[[0,0],[0,0],[s3,1],[0,0]]\n",
    "            \n",
    "        if result.get(a4):\n",
    "            result[a4][3][0]+=s4\n",
    "            result[a4][3][1]+=1\n",
    "        else:\n",
    "            result[a4]=[[0,0],[0,0],[0,0],[s4,1]]\n",
    "    answer=False\n",
    "    \n",
    "    for d4 in range(-100,101):\n",
    "        for d3 in range(d4,101):\n",
    "            for d2 in range(d3,101):\n",
    "                for d1 in range(d2,101):\n",
    "                    if d1+d2+d3+d4==0:\n",
    "                        answer=check(result,[d1,d2,d3,d4],K,M)\n",
    "                        if answer:\n",
    "                            break\n",
    "                if answer:\n",
    "                    break\n",
    "            if answer:\n",
    "                break\n",
    "        if answer:\n",
    "            break\n",
    "    if answer:\n",
    "        print(d1,d2,d3,d4)\n",
    "    else:\n",
    "        print(-1)\n",
    "    \n",
    "def check(result,uma,player,rank):\n",
    "    scores=[0,0,0,0]\n",
    "    for k,v in result.items():\n",
    "        for i in range(4):\n",
    "            scores[k-1]+=v[i][0]+v[i][1]*uma[i]\n",
    "    if player_rank(scores,player)==rank:\n",
    "        return True\n",
    "    return False\n",
    "\n",
    "def player_rank(scores,player_num):\n",
    "    rank=4\n",
    "    for idx,score in enumerate(scores):\n",
    "        if scores[player_num-1]>score:\n",
    "            rank-=1\n",
    "        elif scores[player_num-1]==score and player_num<idx+1:\n",
    "            rank-=1\n",
    "    return rank\n",
    "main()"
   ]
  }
 ],
 "metadata": {
  "kernelspec": {
   "display_name": "Python 3",
   "language": "python",
   "name": "python3"
  },
  "language_info": {
   "codemirror_mode": {
    "name": "ipython",
    "version": 3
   },
   "file_extension": ".py",
   "mimetype": "text/x-python",
   "name": "python",
   "nbconvert_exporter": "python",
   "pygments_lexer": "ipython3",
   "version": "3.10.5"
  }
 },
 "nbformat": 4,
 "nbformat_minor": 2
}

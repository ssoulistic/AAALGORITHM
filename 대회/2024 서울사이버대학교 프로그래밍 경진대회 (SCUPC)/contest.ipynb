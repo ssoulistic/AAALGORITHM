{
 "cells": [
  {
   "cell_type": "code",
   "execution_count": 9,
   "metadata": {},
   "outputs": [
    {
     "name": "stdout",
     "output_type": "stream",
     "text": [
      "7975\n"
     ]
    }
   ],
   "source": [
    "input=open(\"../../sample.txt\",\"r\").readline\n",
    "# import sys\n",
    "# input=sys.stdin.readline\n",
    "N=int(input())\n",
    "print(N-2024)"
   ]
  },
  {
   "cell_type": "code",
   "execution_count": 79,
   "metadata": {},
   "outputs": [
    {
     "name": "stdout",
     "output_type": "stream",
     "text": [
      "0\n"
     ]
    }
   ],
   "source": [
    "input=open(\"../../sample.txt\",\"r\").readline\n",
    "# import sys\n",
    "# input=sys.stdin.readline\n",
    "R,K,M=map(int,input().split())\n",
    "i=M//K\n",
    "base=2\n",
    "calc=1\n",
    "while i>0:\n",
    "    calc*=base**(i%2)\n",
    "    base*=base\n",
    "    i//=2\n",
    "    if calc>R:\n",
    "        break\n",
    "print(R//calc)"
   ]
  },
  {
   "cell_type": "code",
   "execution_count": 84,
   "metadata": {},
   "outputs": [
    {
     "name": "stdout",
     "output_type": "stream",
     "text": [
      "0\n"
     ]
    }
   ],
   "source": [
    "input=open(\"../../sample.txt\",\"r\").readline\n",
    "# import sys\n",
    "# input=sys.stdin.readline\n",
    "N,M=map(int,input().split())\n",
    "count={}\n",
    "for _ in range(N):\n",
    "    K=int(input())\n",
    "    students=list(map(int,input().split()))\n",
    "    for s in students:\n",
    "        if count.get(s):\n",
    "            count[s]+=1\n",
    "        else:\n",
    "            count[s]=1\n",
    "answer=0\n",
    "for k,v in count.items():\n",
    "    if v>=M:\n",
    "        answer+=1\n",
    "print(answer)\n",
    "    \n"
   ]
  },
  {
   "cell_type": "code",
   "execution_count": 110,
   "metadata": {},
   "outputs": [
    {
     "name": "stdout",
     "output_type": "stream",
     "text": [
      "2\n"
     ]
    },
    {
     "data": {
      "text/plain": [
       "2"
      ]
     },
     "execution_count": 110,
     "metadata": {},
     "output_type": "execute_result"
    }
   ],
   "source": [
    "input=open(\"../../sample.txt\",\"r\").readline\n",
    "# import sys\n",
    "# input=sys.stdin.readline\n",
    "N,K=map(int,input().split())\n",
    "A=list(map(int,input().split()))\n",
    "count=0\n",
    "i=1\n",
    "def check(limit):\n",
    "    count=0\n",
    "    for i in range(N):\n",
    "        count+=min(A[i],limit)//2\n",
    "    return count\n",
    "l,r=0,10**12+1\n",
    "while l<r:\n",
    "    mid=(l+r)//2\n",
    "    det=check(mid)\n",
    "    if det>=K:\n",
    "        r=mid\n",
    "    else:\n",
    "        l=mid+1\n",
    "print(l)\n",
    "check(l)\n",
    "\n",
    "# 이분탐색후 조건 분기가 많아보이는 문제"
   ]
  },
  {
   "cell_type": "code",
   "execution_count": 126,
   "metadata": {},
   "outputs": [
    {
     "name": "stdout",
     "output_type": "stream",
     "text": [
      "11\n"
     ]
    }
   ],
   "source": [
    "input=open(\"../../sample.txt\",\"r\").readline\n",
    "# import sys\n",
    "# input=sys.stdin.readline\n",
    "N,A,B,C,D=map(int,input().split())\n",
    "xs=[]\n",
    "ys=[]\n",
    "for _ in range(N):\n",
    "    X,Y=map(int,input().split())\n",
    "    xs.append(X)\n",
    "    ys.append(Y)\n",
    "lx=min(xs)\n",
    "rx=max(xs)\n",
    "ly=min(ys)\n",
    "ry=max(ys)\n",
    "\n",
    "def check_x(k):\n",
    "    acc=0\n",
    "    for x in xs:\n",
    "        if x-k>0:\n",
    "            acc+=A*(x-k)\n",
    "        else:\n",
    "            acc+=B*(k-x)\n",
    "    return acc\n",
    "\n",
    "def check_y(k):\n",
    "    acc=0\n",
    "    for y in ys:\n",
    "        if y-k>0:\n",
    "            acc+=C*(y-k)\n",
    "        else:\n",
    "            acc+=D*(k-y)\n",
    "    return acc\n",
    "\n",
    "\n",
    "def min_valx(lx,rx):\n",
    "    while lx<rx:\n",
    "        mid=(lx+rx)//2\n",
    "        cost_lx=check_x(lx)\n",
    "        cost_rx=check_x(rx)\n",
    "        cost_x=check_x(mid)\n",
    "        if cost_x<=cost_lx:\n",
    "            lx=mid+1\n",
    "        elif cost_x<=cost_rx:\n",
    "            rx=mid\n",
    "        else:\n",
    "            break\n",
    "    return cost_lx\n",
    "\n",
    "def min_valy(ly,ry):\n",
    "    while ly<ry:\n",
    "        mid=(ly+ry)//2\n",
    "        cost_ly=check_y(ly)\n",
    "        cost_ry=check_y(ry)\n",
    "        cost_y=check_y(mid)\n",
    "        if cost_y<=cost_ly:\n",
    "            ly=mid+1\n",
    "        elif cost_y<=cost_ry:\n",
    "            ry=mid\n",
    "        else:\n",
    "            break\n",
    "    return cost_ly\n",
    "print(min_valx(lx,rx)+min_valy(ly,ry))"
   ]
  }
 ],
 "metadata": {
  "kernelspec": {
   "display_name": "Python 3",
   "language": "python",
   "name": "python3"
  },
  "language_info": {
   "codemirror_mode": {
    "name": "ipython",
    "version": 3
   },
   "file_extension": ".py",
   "mimetype": "text/x-python",
   "name": "python",
   "nbconvert_exporter": "python",
   "pygments_lexer": "ipython3",
   "version": "3.10.5"
  }
 },
 "nbformat": 4,
 "nbformat_minor": 2
}

{
 "cells": [
  {
   "cell_type": "code",
   "execution_count": 3,
   "metadata": {},
   "outputs": [
    {
     "name": "stdout",
     "output_type": "stream",
     "text": [
      "7\n"
     ]
    }
   ],
   "source": [
    "input=open(\"D:/python/AAALGORITHM/대회/test.txt\",'r').readline\n",
    "# import sys\n",
    "# input=sys.stdin.readline\n",
    "N,D=map(int,input().split())\n",
    "S=input().strip()\n",
    "empty=S.count(\".\")\n",
    "print(empty+D)\n"
   ]
  },
  {
   "cell_type": "code",
   "execution_count": 12,
   "metadata": {},
   "outputs": [
    {
     "name": "stdout",
     "output_type": "stream",
     "text": [
      "@@@.......\n"
     ]
    }
   ],
   "source": [
    "input=open(\"D:/python/AAALGORITHM/대회/test.txt\",'r').readline\n",
    "# import sys\n",
    "# input=sys.stdin.readline\n",
    "N,D=map(int,input().split())\n",
    "S=input().strip()\n",
    "S=S[::-1].replace(\"@\",\".\",D)\n",
    "print(S[::-1])"
   ]
  },
  {
   "cell_type": "code",
   "execution_count": 23,
   "metadata": {},
   "outputs": [
    {
     "name": "stdout",
     "output_type": "stream",
     "text": [
      "1\n",
      "3\n",
      "-1\n"
     ]
    }
   ],
   "source": [
    "input=open(\"D:/python/AAALGORITHM/대회/test.txt\",'r').readline\n",
    "# import sys\n",
    "# input=sys.stdin.readline\n",
    "N,M=map(int,input().split())\n",
    "A=list(map(int,input().split()))\n",
    "B=list(map(int,input().split()))\n",
    "eat=[-1 for _ in range(len(B))]\n",
    "BLOC=[]\n",
    "for b in range(M):\n",
    "    BLOC.append([B[b],b])\n",
    "BLOC.sort()\n",
    "for a in range(N):\n",
    "    while BLOC and BLOC[-1][0]>=A[a]:\n",
    "        eat[BLOC.pop()[1]]=a+1\n",
    "print(*eat,sep=\"\\n\")\n",
    "    \n",
    "\n"
   ]
  },
  {
   "cell_type": "code",
   "execution_count": null,
   "metadata": {},
   "outputs": [],
   "source": [
    "input=open(\"D:/python/AAALGORITHM/대회/test.txt\",'r').readline\n",
    "# import sys\n",
    "# input=sys.stdin.readline\n",
    "N,M=map(int,input().split())\n",
    "answer=[]\n",
    "def bt(param):\n",
    "    if len(param)<N:\n",
    "        while len(param)<N:\n",
    "            param.append(param[-1]+10)\n",
    "        bt(param)\n",
    "    elif len(param)==N:\n",
    "        while param[-1]<=M:\n",
    "            answer.append(param.copy())\n",
    "            param[-1]+=1\n",
    "        while len(param)>1 and param[-1]+1==M-10*(N-1-len(param)):\n",
    "            param.pop()\n",
    "        if param[-1]+1<=M-10*(N-1-len(param)):\n",
    "            param[-1]+=1\n",
    "            bt(param)\n",
    "    return\n",
    "bt([1])\n",
    "print(len(answer))\n",
    "for ans in answer:\n",
    "    print(*ans)"
   ]
  }
 ],
 "metadata": {
  "kernelspec": {
   "display_name": "Python 3",
   "language": "python",
   "name": "python3"
  },
  "language_info": {
   "codemirror_mode": {
    "name": "ipython",
    "version": 3
   },
   "file_extension": ".py",
   "mimetype": "text/x-python",
   "name": "python",
   "nbconvert_exporter": "python",
   "pygments_lexer": "ipython3",
   "version": "3.10.5"
  }
 },
 "nbformat": 4,
 "nbformat_minor": 2
}

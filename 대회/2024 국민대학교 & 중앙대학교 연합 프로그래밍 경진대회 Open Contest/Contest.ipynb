{
 "cells": [
  {
   "cell_type": "code",
   "execution_count": null,
   "metadata": {},
   "outputs": [
    {
     "name": "stdout",
     "output_type": "stream",
     "text": [
      "No\n"
     ]
    }
   ],
   "source": [
    "input=open(\"D:/python/AAALGORITHM/대회/test.txt\",'r').readline\n",
    "# import sys\n",
    "# input=sys.stdin.readline\n",
    "N=int(input())\n",
    "A,B,C,D=map(int,input().split())\n",
    "S=input().strip()\n",
    "delicious=True\n",
    "if S[0]!='a' or S[-1]!='a':\n",
    "    delicious=False\n",
    "if S.count('a')>A or S.count('b')>B or S.count('c')>C or S.count('d')>D:\n",
    "    delicious=False\n",
    "\n",
    "for i in range(N-1):\n",
    "    if S[i]==S[i+1]:\n",
    "        delicious=False\n",
    "        break\n",
    "if delicious:\n",
    "    print(\"Yes\")\n",
    "else:\n",
    "    print(\"No\")"
   ]
  },
  {
   "cell_type": "code",
   "execution_count": 13,
   "metadata": {},
   "outputs": [
    {
     "name": "stdout",
     "output_type": "stream",
     "text": [
      "1\n"
     ]
    }
   ],
   "source": [
    "input=open(\"D:/python/AAALGORITHM/대회/test.txt\",'r').readline\n",
    "# import sys\n",
    "# input=sys.stdin.readline\n",
    "N,L,R=map(int,input().split())\n",
    "A=list(map(int,input().split()))\n",
    "\n",
    "answer=1\n",
    "mini=10**9+1\n",
    "maxi=0\n",
    "if N>1:\n",
    "    for i in range(L-1,R):\n",
    "        if mini>A[i]:\n",
    "            mini=A[i]\n",
    "        if maxi<A[i]:\n",
    "            maxi=A[i]\n",
    "\n",
    "    for j in range(L-2):\n",
    "        if A[j]>A[j+1]:\n",
    "            answer=0\n",
    "            break\n",
    "    for k in range(R,N-1):\n",
    "        if A[k]>A[k+1]:\n",
    "            answer=0\n",
    "            break\n",
    "\n",
    "    if L-2>0 and mini<A[L-2]:\n",
    "        answer=0\n",
    "    if R<N and maxi>A[R]:\n",
    "        answer=0\n",
    "    \n",
    "print(answer)"
   ]
  },
  {
   "cell_type": "code",
   "execution_count": 19,
   "metadata": {},
   "outputs": [
    {
     "name": "stdout",
     "output_type": "stream",
     "text": [
      "1 2\n"
     ]
    }
   ],
   "source": [
    "input=open(\"D:/python/AAALGORITHM/대회/test.txt\",'r').readline\n",
    "# import sys\n",
    "# input=sys.stdin.readline\n",
    "N,K=map(int,input().split())\n",
    "if N==1:\n",
    "    print(*list(1 for _ in range(N*K)))\n",
    "elif N==2 and K==1:\n",
    "    print(1,2)\n",
    "else:\n",
    "    print(-1)"
   ]
  },
  {
   "cell_type": "code",
   "execution_count": 20,
   "metadata": {},
   "outputs": [
    {
     "name": "stdout",
     "output_type": "stream",
     "text": [
      "4\n"
     ]
    }
   ],
   "source": [
    "input=open(\"D:/python/AAALGORITHM/대회/test.txt\",'r').readline\n",
    "# import sys\n",
    "# input=sys.stdin.readline\n",
    "N,R=map(int,input().split())\n",
    "answer=0\n",
    "\n",
    "def dist(a,b):\n",
    "    return ((a[0]-b[0])**2+(a[1]-b[1])**2)**0.5\n",
    "\n",
    "for _ in range(N):\n",
    "    x1,y1,x2,y2,x3,y3,x4,y4=map(int,input().split())\n",
    "    grav=((x1+x2+x3+x4)/4,(y1+y2+y3+y4)/4)\n",
    "    max_len=max(dist((x1,y1),grav),dist((x2,y2),grav),dist((x3,y3),grav),dist((x4,y4),grav))\n",
    "    if dist((0,0),grav)-max_len<=R:\n",
    "        answer+=1\n",
    "print(answer)\n",
    "    "
   ]
  },
  {
   "cell_type": "code",
   "execution_count": null,
   "metadata": {},
   "outputs": [],
   "source": [
    "input=open(\"D:/python/AAALGORITHM/대회/test.txt\",'r').readline\n",
    "# import sys\n",
    "# input=sys.stdin.readline\n",
    "N=int(input())\n",
    "for _ in range(N-1):\n",
    "    u,v=map(int,input().split())\n",
    "    \n",
    "    "
   ]
  },
  {
   "cell_type": "code",
   "execution_count": null,
   "metadata": {},
   "outputs": [
    {
     "name": "stdout",
     "output_type": "stream",
     "text": [
      "2\n",
      "UL\n"
     ]
    }
   ],
   "source": [
    "input=open(\"D:/python/AAALGORITHM/대회/test.txt\",'r').readline\n",
    "# import sys\n",
    "# input=sys.stdin.readline\n",
    "n,d=map(int,input().split())\n",
    "\n",
    "def gcd(a,b):\n",
    "    a=abs(a)\n",
    "    b=abs(b)\n",
    "    if b>a:\n",
    "        a,b=b,a\n",
    "    if b==0:\n",
    "        return 1\n",
    "    while a % b:\n",
    "        a,b = b, a%b\n",
    "    return b\n",
    "\n",
    "def check(num):\n",
    "    while num%2==0:\n",
    "        num/=2\n",
    "    if num>1:\n",
    "        return False\n",
    "    else:\n",
    "        return True\n",
    "\n",
    "def move_int(x):\n",
    "    adder=\"U\"\n",
    "    if x>0:\n",
    "        mover=\"R\"\n",
    "    else:\n",
    "        mover=\"L\"\n",
    "    x=abs(x)\n",
    "    result=[]\n",
    "    count=0\n",
    "    while x>=1:\n",
    "        if x % 2:\n",
    "            result.append(mover)\n",
    "        x//=2\n",
    "        if x>=1:\n",
    "            count+=1\n",
    "            result.append(adder)\n",
    "    return [\"\".join(result),count]\n",
    "\n",
    "def move_dec(n,d):\n",
    "    adder=\"D\"\n",
    "    if n>0:\n",
    "        mover=\"R\"\n",
    "    else:\n",
    "        mover=\"L\"\n",
    "    result=[]\n",
    "    count=0\n",
    "    n=abs(n)\n",
    "    while n>0:\n",
    "        if n//d:\n",
    "            result.append(mover)\n",
    "        n%=d\n",
    "        d//=2\n",
    "        if n>0:\n",
    "            count+=1\n",
    "            result.append(adder)\n",
    "    return [\"\".join(result),count]\n",
    "\n",
    "gd=gcd(n,d)\n",
    "n//=gd\n",
    "d//=gd\n",
    "\n",
    "if check(d):\n",
    "    mi,ci=move_int(n//d)\n",
    "    md,di=move_dec(n%d,d)\n",
    "    if ci>di:\n",
    "        if len(md)+di+len(mi)>1000:\n",
    "            print(-1)\n",
    "        else:\n",
    "            print(len(md)+di+len(mi))\n",
    "            print(md+\"U\"*di+mi)\n",
    "    else:\n",
    "        if len(mi)+ci+len(md)>1000:\n",
    "            print(-1)\n",
    "        else:\n",
    "            print(len(mi)+ci+len(md))\n",
    "            print(mi+\"D\"*ci+md)\n",
    "else:\n",
    "    print(-1)\n",
    "    "
   ]
  },
  {
   "cell_type": "code",
   "execution_count": 133,
   "metadata": {},
   "outputs": [
    {
     "name": "stdout",
     "output_type": "stream",
     "text": [
      "10\n"
     ]
    }
   ],
   "source": [
    "input=open(\"D:/python/AAALGORITHM/대회/test.txt\",'r').readline\n",
    "from heapq import *\n",
    "# import sys\n",
    "# input=sys.stdin.readline\n",
    "N,M=map(int,input().split())\n",
    "a=list(map(lambda x: -(int(x)),input().split()))\n",
    "heapify(a)\n",
    "p=heappop(a)\n",
    "q=heappop(a)\n",
    "dp=[(-p)%(10**9+7),(-q)%(10**9+7)]\n",
    "i=0\n",
    "while i<N:\n",
    "    dp=[(dp[0]+dp[1])%(10**9+7),dp[0]]\n",
    "    i+=1\n",
    "print(dp[0]%(10**9+7))"
   ]
  }
 ],
 "metadata": {
  "kernelspec": {
   "display_name": "Python 3",
   "language": "python",
   "name": "python3"
  },
  "language_info": {
   "codemirror_mode": {
    "name": "ipython",
    "version": 3
   },
   "file_extension": ".py",
   "mimetype": "text/x-python",
   "name": "python",
   "nbconvert_exporter": "python",
   "pygments_lexer": "ipython3",
   "version": "3.10.5"
  }
 },
 "nbformat": 4,
 "nbformat_minor": 2
}

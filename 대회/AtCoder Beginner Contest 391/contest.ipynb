{
 "cells": [
  {
   "cell_type": "code",
   "execution_count": 1,
   "metadata": {},
   "outputs": [
    {
     "name": "stdout",
     "output_type": "stream",
     "text": [
      "NW"
     ]
    }
   ],
   "source": [
    "input=open(\"D:/python/AAALGORITHM/대회/test.txt\",'r').readline\n",
    "D=input().strip()\n",
    "oppo={\"N\":\"S\",\"E\":\"W\",\"W\":\"E\",\"S\":\"N\"}\n",
    "\n",
    "for d in D:\n",
    "    print(oppo[d],end=\"\")"
   ]
  },
  {
   "cell_type": "code",
   "execution_count": 6,
   "metadata": {},
   "outputs": [
    {
     "name": "stdout",
     "output_type": "stream",
     "text": [
      "1 2\n"
     ]
    }
   ],
   "source": [
    "input=open(\"D:/python/AAALGORITHM/대회/test.txt\",'r').readline\n",
    "# import sys\n",
    "# input=sys.stdin.readline\n",
    "N,M=map(int,input().split())\n",
    "S=[]\n",
    "T=[]\n",
    "for _ in range(N):\n",
    "    S.append(list(input().strip()))\n",
    "for _ in range(M):\n",
    "    T.append(list(input().strip()))\n",
    "\n",
    "def check(i,j):\n",
    "    for p in range(M):\n",
    "        for q in range(M):\n",
    "            if S[p+i][q+j]!=T[p][q]:\n",
    "                return False\n",
    "    return True\n",
    "\n",
    "\n",
    "L=len(S)-len(T)+1\n",
    "Flag=False\n",
    "for i in range(L):\n",
    "    for j in range(L):\n",
    "        if check(i,j):\n",
    "            print(i+1,j+1)\n",
    "            Flag=True\n",
    "    if Flag:\n",
    "        break        \n",
    "        "
   ]
  },
  {
   "cell_type": "code",
   "execution_count": 13,
   "metadata": {},
   "outputs": [
    {
     "name": "stdout",
     "output_type": "stream",
     "text": [
      "0\n",
      "1\n",
      "2\n",
      "1\n"
     ]
    }
   ],
   "source": [
    "input=open(\"D:/python/AAALGORITHM/대회/test.txt\",'r').readline\n",
    "# import sys\n",
    "# input=sys.stdin.readline\n",
    "N,Q=map(int,input().split())\n",
    "pigeon={}\n",
    "for i in range(N):\n",
    "    pigeon[i]=i\n",
    "    \n",
    "pigeons=[1]*N\n",
    "count=0\n",
    "for _ in range(Q):\n",
    "    command=input().split()\n",
    "    if command[0]==\"1\":\n",
    "        P=int(command[1])\n",
    "        H=int(command[2])\n",
    "        pigeons[pigeon[P-1]]-=1\n",
    "        if pigeons[pigeon[P-1]]==1:\n",
    "            count-=1\n",
    "        pigeon[P-1]=H-1\n",
    "        pigeons[H-1]+=1\n",
    "        if pigeons[H-1]==2:\n",
    "            count+=1\n",
    "    elif command[0]==\"2\":\n",
    "        print(count)"
   ]
  },
  {
   "cell_type": "code",
   "execution_count": 52,
   "metadata": {},
   "outputs": [
    {
     "name": "stdout",
     "output_type": "stream",
     "text": [
      "No\n",
      "No\n",
      "Yes\n",
      "Yes\n"
     ]
    }
   ],
   "source": [
    "input=open(\"D:/python/AAALGORITHM/대회/test.txt\",'r').readline\n",
    "# import sys\n",
    "# input=sys.stdin.readline\n",
    "\n",
    "# 좌표 N-1-(y-1),x-1 주의 N-y,x-1\n",
    "\n",
    "N,W=map(int,input().split())\n",
    "box=[[] for _ in range(W)]\n",
    "for i in range(N):\n",
    "    X,Y=map(int,input().split())\n",
    "    box[X-1].append([Y-1,i])\n",
    "minbox=1e10\n",
    "for i in range(W):\n",
    "    box[i].sort(key=lambda x: x[0])\n",
    "    minbox=min(minbox,len(box[i]))\n",
    "\n",
    "record={}\n",
    "for j in range(minbox):\n",
    "    time=0\n",
    "    for i in range(W):\n",
    "        time=max(time,box[i][j][0])\n",
    "    \n",
    "    for i in range(W):\n",
    "        record[box[i][j][1]+1]=time+0.5\n",
    "\n",
    "Q=int(input())\n",
    "for _ in range(Q):\n",
    "    T,A=map(int,input().split())\n",
    "    answer=\"Yes\"\n",
    "    if record.get(A):\n",
    "        if record[A]<T:\n",
    "            answer=\"No\"\n",
    "    print(answer)\n",
    "            \n",
    "\n"
   ]
  },
  {
   "cell_type": "code",
   "execution_count": null,
   "metadata": {},
   "outputs": [],
   "source": []
  }
 ],
 "metadata": {
  "kernelspec": {
   "display_name": "Python 3",
   "language": "python",
   "name": "python3"
  },
  "language_info": {
   "codemirror_mode": {
    "name": "ipython",
    "version": 3
   },
   "file_extension": ".py",
   "mimetype": "text/x-python",
   "name": "python",
   "nbconvert_exporter": "python",
   "pygments_lexer": "ipython3",
   "version": "3.10.5"
  }
 },
 "nbformat": 4,
 "nbformat_minor": 2
}
